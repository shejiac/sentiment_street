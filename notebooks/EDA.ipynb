{
 "cells": [
  {
   "cell_type": "code",
   "execution_count": 1,
   "id": "31630a23",
   "metadata": {},
   "outputs": [],
   "source": [
    "# General DS libs\n",
    "import numpy as np\n",
    "import pandas as pd\n",
    "import seaborn as sb\n",
    "import matplotlib.pyplot as plt"
   ]
  },
  {
   "cell_type": "code",
   "execution_count": 2,
   "id": "87ed2b13",
   "metadata": {},
   "outputs": [],
   "source": [
    "reddit_df = pd.read_csv(\"raw_reddit_data.csv\")"
   ]
  },
  {
   "cell_type": "code",
   "execution_count": 3,
   "id": "5a3ee282",
   "metadata": {},
   "outputs": [
    {
     "data": {
      "text/html": [
       "<div>\n",
       "<style scoped>\n",
       "    .dataframe tbody tr th:only-of-type {\n",
       "        vertical-align: middle;\n",
       "    }\n",
       "\n",
       "    .dataframe tbody tr th {\n",
       "        vertical-align: top;\n",
       "    }\n",
       "\n",
       "    .dataframe thead th {\n",
       "        text-align: right;\n",
       "    }\n",
       "</style>\n",
       "<table border=\"1\" class=\"dataframe\">\n",
       "  <thead>\n",
       "    <tr style=\"text-align: right;\">\n",
       "      <th></th>\n",
       "      <th>id</th>\n",
       "      <th>title</th>\n",
       "      <th>selftext</th>\n",
       "      <th>comments</th>\n",
       "      <th>score</th>\n",
       "      <th>created_utc</th>\n",
       "      <th>url</th>\n",
       "      <th>num_comments</th>\n",
       "      <th>flair</th>\n",
       "      <th>is_self</th>\n",
       "    </tr>\n",
       "  </thead>\n",
       "  <tbody>\n",
       "    <tr>\n",
       "      <th>0</th>\n",
       "      <td>1jwz2d3</td>\n",
       "      <td>Bitcoin Newcomers FAQ - Please read!</td>\n",
       "      <td># Welcome to the /r/Bitcoin Newcomers FAQ\\n\\nY...</td>\n",
       "      <td>Please feel free to make [constructive edits](...</td>\n",
       "      <td>95</td>\n",
       "      <td>1.744402e+09</td>\n",
       "      <td>https://www.reddit.com/r/Bitcoin/comments/1jwz...</td>\n",
       "      <td>19</td>\n",
       "      <td>NaN</td>\n",
       "      <td>True</td>\n",
       "    </tr>\n",
       "    <tr>\n",
       "      <th>1</th>\n",
       "      <td>1lpofh3</td>\n",
       "      <td>Daily Discussion, July 02, 2025</td>\n",
       "      <td>Please utilize this sticky thread for all gene...</td>\n",
       "      <td>107k stablecoin || I'm currently thinking abou...</td>\n",
       "      <td>23</td>\n",
       "      <td>1.751437e+09</td>\n",
       "      <td>https://www.reddit.com/r/Bitcoin/comments/1lpo...</td>\n",
       "      <td>18</td>\n",
       "      <td>NaN</td>\n",
       "      <td>True</td>\n",
       "    </tr>\n",
       "    <tr>\n",
       "      <th>2</th>\n",
       "      <td>1lpsaad</td>\n",
       "      <td>HISTORY: 11 years ago today, the U.S. governme...</td>\n",
       "      <td>NaN</td>\n",
       "      <td>Did he hold on to them? || They piss away $3 b...</td>\n",
       "      <td>272</td>\n",
       "      <td>1.751452e+09</td>\n",
       "      <td>https://i.redd.it/kpf0ix5rtfaf1.png</td>\n",
       "      <td>9</td>\n",
       "      <td>NaN</td>\n",
       "      <td>False</td>\n",
       "    </tr>\n",
       "    <tr>\n",
       "      <th>3</th>\n",
       "      <td>1lp2u2t</td>\n",
       "      <td>This guy bought a 100 BTC gold Casascius bar b...</td>\n",
       "      <td>NaN</td>\n",
       "      <td>That’s insane but it’s a win win for him. $500...</td>\n",
       "      <td>7556</td>\n",
       "      <td>1.751379e+09</td>\n",
       "      <td>https://i.redd.it/uewmioq0u9af1.jpeg</td>\n",
       "      <td>460</td>\n",
       "      <td>NaN</td>\n",
       "      <td>False</td>\n",
       "    </tr>\n",
       "    <tr>\n",
       "      <th>4</th>\n",
       "      <td>1lptdcf</td>\n",
       "      <td>They will never admit it</td>\n",
       "      <td>NaN</td>\n",
       "      <td>25 cards deep in denial</td>\n",
       "      <td>95</td>\n",
       "      <td>1.751456e+09</td>\n",
       "      <td>https://i.redd.it/n3odwchl4gaf1.jpeg</td>\n",
       "      <td>1</td>\n",
       "      <td>NaN</td>\n",
       "      <td>False</td>\n",
       "    </tr>\n",
       "  </tbody>\n",
       "</table>\n",
       "</div>"
      ],
      "text/plain": [
       "        id                                              title  \\\n",
       "0  1jwz2d3               Bitcoin Newcomers FAQ - Please read!   \n",
       "1  1lpofh3                    Daily Discussion, July 02, 2025   \n",
       "2  1lpsaad  HISTORY: 11 years ago today, the U.S. governme...   \n",
       "3  1lp2u2t  This guy bought a 100 BTC gold Casascius bar b...   \n",
       "4  1lptdcf                           They will never admit it   \n",
       "\n",
       "                                            selftext  \\\n",
       "0  # Welcome to the /r/Bitcoin Newcomers FAQ\\n\\nY...   \n",
       "1  Please utilize this sticky thread for all gene...   \n",
       "2                                                NaN   \n",
       "3                                                NaN   \n",
       "4                                                NaN   \n",
       "\n",
       "                                            comments  score   created_utc  \\\n",
       "0  Please feel free to make [constructive edits](...     95  1.744402e+09   \n",
       "1  107k stablecoin || I'm currently thinking abou...     23  1.751437e+09   \n",
       "2  Did he hold on to them? || They piss away $3 b...    272  1.751452e+09   \n",
       "3  That’s insane but it’s a win win for him. $500...   7556  1.751379e+09   \n",
       "4                            25 cards deep in denial     95  1.751456e+09   \n",
       "\n",
       "                                                 url  num_comments  flair  \\\n",
       "0  https://www.reddit.com/r/Bitcoin/comments/1jwz...            19    NaN   \n",
       "1  https://www.reddit.com/r/Bitcoin/comments/1lpo...            18    NaN   \n",
       "2                https://i.redd.it/kpf0ix5rtfaf1.png             9    NaN   \n",
       "3               https://i.redd.it/uewmioq0u9af1.jpeg           460    NaN   \n",
       "4               https://i.redd.it/n3odwchl4gaf1.jpeg             1    NaN   \n",
       "\n",
       "   is_self  \n",
       "0     True  \n",
       "1     True  \n",
       "2    False  \n",
       "3    False  \n",
       "4    False  "
      ]
     },
     "execution_count": 3,
     "metadata": {},
     "output_type": "execute_result"
    }
   ],
   "source": [
    "reddit_df.head()"
   ]
  },
  {
   "cell_type": "code",
   "execution_count": 5,
   "id": "83c9d301",
   "metadata": {},
   "outputs": [
    {
     "data": {
      "text/plain": [
       "\"107k stablecoin || I'm currently thinking about moving my old workplace pension, probably around 50% of my total pensions into MSTR. I'm in my early 30s, so this represents about 10 years of workplace contributions.\\n\\nIf I could invest directly into Bitcoin, I wouldn't think twice, but since I'm in the UK, MSTR is the only real Bitcoin exposure I can get within a SIPP.\\n\\nThat said, I'm aware we're quite far along in the current cycle (assuming cycles continue to repeat). MSTR isn't true Bitcoin, and its premium over BTC could evaporate. On the plus side, at least it wouldn’t be sitting in fiat or conventional equities—although a simple S&P 500 index fund has historically delivered solid returns too.\\n\\nWhat do you all think?\\n\\nEdit for a typo || Just a reminder, everything is going to zero against Bitcoin. Have a great day! || Self perpetuating trend right now, when will it stop.? We just need some of those 'retail' folks to jump in....wait..that is me. || Now that's a v-shaped recovery || Bought some of those cheap sats || 🚨 **BREAKING NEWS EVERYONE** 🚨\\n\\n‼️ **1 BTC is still = 1 BTC!!** ‼️\\n\\nThis important announcement was just released today! What will you do with this new information?! 🤔⏳ || Could be a big day, seller exhaustion. || Another good start before the burgers dump || seeing what’s happening all over the globe right now, I’m not complaining with that 🙃\\n\\nsomething like that wouldn't have been possible a couple of years ago || With you being in the uk, MSTR is a reasonable way to get exposure to bitcoin within a SIPP. Have you checked if any of the ETFs (such as ibit for example) are available? Dont know what the returns are like but maybe worth exploring the different options? || I’m (very) cautiously optimistic that cycles are going to be much more subdued, despite still expecting large price swings. Corp and ETF buying along with more retail and greater conviction should help buy big dips alongside declining supply on exchange(for now) but we’ll see. || I did something similar with a large portion of my IRA in the US. Is MSTR's STRK available to you? Its a bit lower risk with an estimated 80% of bitcoin upside with only like 10% downside. Im in my 30s as well, this money cant be moved for like 20 years without big penalty so Im hoping the long game works. Easy to have diamond hands in those accounts if there is some big draw downs. || I would just gtfo the UK lmao || I think everything goes negative against Bitcoin because you’d have to pay me to take any trash that isn’t Bitcoin. || If you mean for the fireworks display in a few hours..or possibly minutes I am with you. || No I don't think you can even buy the Bitcoin ETFs in UK. The FCA won't allow it. (Financial conduct authority) || Haven’t they just green lit this though?\""
      ]
     },
     "execution_count": 5,
     "metadata": {},
     "output_type": "execute_result"
    }
   ],
   "source": [
    "reddit_df[\"comments\"][1]"
   ]
  },
  {
   "cell_type": "code",
   "execution_count": null,
   "id": "e30b8689",
   "metadata": {},
   "outputs": [
    {
     "data": {
      "text/plain": [
       "np.int64(17)"
      ]
     },
     "execution_count": 11,
     "metadata": {},
     "output_type": "execute_result"
    }
   ],
   "source": [
    "# Check the number of posts without any body texts\n",
    "reddit_df[\"selftext\"].isna().sum()"
   ]
  },
  {
   "cell_type": "code",
   "execution_count": 12,
   "id": "f6bf059b",
   "metadata": {},
   "outputs": [
    {
     "data": {
      "text/plain": [
       "np.int64(4)"
      ]
     },
     "execution_count": 12,
     "metadata": {},
     "output_type": "execute_result"
    }
   ],
   "source": [
    "# Check the number of posts without any comments\n",
    "reddit_df[\"comments\"].isna().sum()"
   ]
  },
  {
   "cell_type": "markdown",
   "id": "742147fc",
   "metadata": {},
   "source": [
    "Every post has a title, so every post can be partially helpful in sentiment analysis, though it helps to have add-on body-text & comments too"
   ]
  },
  {
   "cell_type": "code",
   "execution_count": 16,
   "id": "eea69343",
   "metadata": {},
   "outputs": [
    {
     "data": {
      "text/plain": [
       "np.float64(1744401555.0)"
      ]
     },
     "execution_count": 16,
     "metadata": {},
     "output_type": "execute_result"
    }
   ],
   "source": [
    "reddit_df[\"created_utc\"][0]"
   ]
  },
  {
   "cell_type": "code",
   "execution_count": null,
   "id": "47621548",
   "metadata": {},
   "outputs": [
    {
     "data": {
      "text/plain": [
       "np.float64(1744401555.0)"
      ]
     },
     "execution_count": 17,
     "metadata": {},
     "output_type": "execute_result"
    }
   ],
   "source": [
    "# Check the range of dates included in the posts, converted to normal format\n",
    "reddit_df[\"created_utc\"].min()"
   ]
  },
  {
   "cell_type": "code",
   "execution_count": 20,
   "id": "e5451d6f",
   "metadata": {},
   "outputs": [
    {
     "name": "stdout",
     "output_type": "stream",
     "text": [
      "2025-04-12 02:59:15\n",
      "2025-07-02 19:13:32\n"
     ]
    }
   ],
   "source": [
    "# Check the range of dates included in the posts, converted to normal format\n",
    "from time import strftime, localtime\n",
    "\n",
    "print(strftime('%Y-%m-%d %H:%M:%S', localtime(reddit_df[\"created_utc\"].min())))\n",
    "print(strftime('%Y-%m-%d %H:%M:%S', localtime(reddit_df[\"created_utc\"].max())))"
   ]
  },
  {
   "cell_type": "markdown",
   "id": "5b9bd3c7",
   "metadata": {},
   "source": [
    "Posts not yet retrieved in new order - this is the default order of reddit. Most likely Best or Most Relevant, so distribution of number of comments is also biased for now too"
   ]
  }
 ],
 "metadata": {
  "kernelspec": {
   "display_name": "sentiment_street",
   "language": "python",
   "name": "python3"
  },
  "language_info": {
   "codemirror_mode": {
    "name": "ipython",
    "version": 3
   },
   "file_extension": ".py",
   "mimetype": "text/x-python",
   "name": "python",
   "nbconvert_exporter": "python",
   "pygments_lexer": "ipython3",
   "version": "3.12.11"
  }
 },
 "nbformat": 4,
 "nbformat_minor": 5
}
